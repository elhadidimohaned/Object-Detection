{
 "cells": [
  {
   "cell_type": "code",
   "execution_count": 1,
   "id": "574e2b1d",
   "metadata": {},
   "outputs": [],
   "source": [
    "import cv2\n",
    "import numpy as np \n",
    "import argparse\n",
    "import time\n",
    "import moviepy\n",
    "from moviepy.editor import VideoFileClip"
   ]
  },
  {
   "cell_type": "code",
   "execution_count": 2,
   "id": "75cae080",
   "metadata": {},
   "outputs": [],
   "source": [
    "def load_yolo():\n",
    "    net = cv2.dnn.readNet(\"yolov3.weights\", \"yolov3.cfg\")\n",
    "    classes = []\n",
    "    with open(\"coco.names\", \"r\") as f:\n",
    "        classes = [line.strip() for line in f.readlines()] \n",
    "        \n",
    "    output_layers = [layer_name for layer_name in net.getUnconnectedOutLayersNames()]\n",
    "    return net, classes, output_layers"
   ]
  },
  {
   "cell_type": "code",
   "execution_count": 3,
   "id": "9cd4dfbf",
   "metadata": {},
   "outputs": [],
   "source": [
    "def detect_objects(img, net, outputLayers):\n",
    "    blob = cv2.dnn.blobFromImage(img, scalefactor=0.00392, size=(320, 320), mean=(0, 0, 0), swapRB=True, crop=False)\n",
    "    net.setInput(blob)\n",
    "    outputs = net.forward(outputLayers)\n",
    "    return blob, outputs"
   ]
  },
  {
   "cell_type": "code",
   "execution_count": 4,
   "id": "0c2ccfda",
   "metadata": {},
   "outputs": [],
   "source": [
    "def get_box_dimensions(outputs, height, width):\n",
    "    boxes = []\n",
    "    confs = []\n",
    "    class_ids = []\n",
    "    for output in outputs:\n",
    "        for detect in output:\n",
    "            scores = detect[5:]\n",
    "            class_id = np.argmax(scores)\n",
    "            conf = scores[class_id]\n",
    "            if conf > 0.8:\n",
    "                center_x = int(detect[0] * width)\n",
    "                center_y = int(detect[1] * height)\n",
    "                w = int(detect[2] * width)\n",
    "                h = int(detect[3] * height)\n",
    "                x = int(center_x - w/2)\n",
    "                y = int(center_y - h / 2)\n",
    "                boxes.append([x, y, w, h])\n",
    "                confs.append(float(conf))\n",
    "                class_ids.append(class_id)\n",
    "    return boxes, confs, class_ids"
   ]
  },
  {
   "cell_type": "code",
   "execution_count": 5,
   "id": "9507f407",
   "metadata": {},
   "outputs": [],
   "source": [
    "def draw_labels(boxes, confs, class_ids, classes, img): \n",
    "    indexes = cv2.dnn.NMSBoxes(boxes, confs, 0.65, 0.7)\n",
    "    font = cv2.FONT_HERSHEY_SIMPLEX\n",
    "    for i in range(len(boxes)):\n",
    "        if i in indexes:\n",
    "            x, y, w, h = boxes[i]\n",
    "            label = str(classes[class_ids[i]])\n",
    "            cv2.rectangle(img, (x,y), (x+w, y+h), (0,255,255), 2)\n",
    "            cv2.putText(img, label, (x, y - 5), font, 0.5, (0,139,139), 2)\n",
    "    return img"
   ]
  },
  {
   "cell_type": "code",
   "execution_count": 6,
   "id": "bcc10f44",
   "metadata": {},
   "outputs": [],
   "source": [
    "model, classes, output_layers = load_yolo()"
   ]
  },
  {
   "cell_type": "code",
   "execution_count": 7,
   "id": "84694459",
   "metadata": {},
   "outputs": [],
   "source": [
    "def Pipeline(frame):\n",
    "    height, width, channels = frame.shape\n",
    "    blob, outputs = detect_objects(frame, model, output_layers)\n",
    "    boxes, confs, class_ids = get_box_dimensions(outputs, height, width)\n",
    "    return draw_labels(boxes, confs, class_ids, classes, frame)"
   ]
  },
  {
   "cell_type": "code",
   "execution_count": 8,
   "id": "b59480e0",
   "metadata": {},
   "outputs": [
    {
     "name": "stdout",
     "output_type": "stream",
     "text": [
      "ffff\n",
      "Moviepy - Building video full_video_threshold_20_with_frame_skipping_my.mp4.\n",
      "Moviepy - Writing video full_video_threshold_20_with_frame_skipping_my.mp4\n",
      "\n"
     ]
    },
    {
     "name": "stderr",
     "output_type": "stream",
     "text": [
      "                                                                                                                       \r"
     ]
    },
    {
     "name": "stdout",
     "output_type": "stream",
     "text": [
      "Moviepy - Done !\n",
      "Moviepy - video ready full_video_threshold_20_with_frame_skipping_my.mp4\n",
      "CPU times: total: 12min 52s\n",
      "Wall time: 4min 21s\n"
     ]
    }
   ],
   "source": [
    "video_output1 = 'output.mp4'\n",
    "video_input1 = VideoFileClip('project_video.mp4')\n",
    "processed_video = video_input1.fl_image(Pipeline)\n",
    "%time processed_video.set_fps(10).write_videofile(video_output1, audio=False)\n",
    "video_input1.reader.close()\n",
    "video_input1.audio.reader.close_proc()"
   ]
  },
  {
   "cell_type": "code",
   "execution_count": null,
   "id": "2dba4efb",
   "metadata": {},
   "outputs": [],
   "source": []
  }
 ],
 "metadata": {
  "kernelspec": {
   "display_name": "Python 3 (ipykernel)",
   "language": "python",
   "name": "python3"
  },
  "language_info": {
   "codemirror_mode": {
    "name": "ipython",
    "version": 3
   },
   "file_extension": ".py",
   "mimetype": "text/x-python",
   "name": "python",
   "nbconvert_exporter": "python",
   "pygments_lexer": "ipython3",
   "version": "3.10.4"
  }
 },
 "nbformat": 4,
 "nbformat_minor": 5
}
